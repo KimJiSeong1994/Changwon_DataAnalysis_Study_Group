{
 "cells": [
  {
   "cell_type": "markdown",
   "metadata": {},
   "source": [
    "### 1. 타이타닉 승객들의 성별에 따른 생존률을 구하시오."
   ]
  },
  {
   "cell_type": "code",
   "execution_count": 68,
   "metadata": {},
   "outputs": [],
   "source": [
    "import pandas as pd\n",
    "titanic = pd.read_csv('C:/Users/tb990/Desktop/titanic.csv')"
   ]
  },
  {
   "cell_type": "code",
   "execution_count": 69,
   "metadata": {},
   "outputs": [
    {
     "name": "stdout",
     "output_type": "stream",
     "text": [
      "Sex\n",
      "female    0.742038\n",
      "male      0.188908\n",
      "Name: Survived, dtype: float64\n"
     ]
    }
   ],
   "source": [
    "titanic_1 = titanic.groupby(['Sex'])['Survived'].sum()/titanic.groupby(['Sex'])['Survived'].count()\n",
    "print(titanic_1)"
   ]
  },
  {
   "cell_type": "raw",
   "metadata": {},
   "source": [
    "# 틀린 시도: 여자남자 합친 값(Sex 열 길이)으로 나누기\n",
    "titanic1 = titanic.groupby(['Sex'])['Survived'].sum()/titanic['Survived'].count()\n",
    "print(titanic1)"
   ]
  },
  {
   "cell_type": "markdown",
   "metadata": {},
   "source": [
    "### 2. 타이타닉 탑승객중 fare가 200 이상을 지불한 탐승객들의 생존 확률은 ?"
   ]
  },
  {
   "cell_type": "code",
   "execution_count": 108,
   "metadata": {},
   "outputs": [
    {
     "name": "stdout",
     "output_type": "stream",
     "text": [
      "0.7\n"
     ]
    }
   ],
   "source": [
    "titanic_2 = titanic[titanic['Fare'] >= 200]['Survived'].sum()/titanic[titanic['Fare'] >= 200]['Survived'].count()\n",
    "print(titanic_2)"
   ]
  },
  {
   "cell_type": "raw",
   "metadata": {},
   "source": [
    "# 틀린 시도: ['Survived']앞에 titanic입력 -> 왜 넣으면 안되죠..\n",
    "titanic2 = titanic[titanic['Fare'] >= 200][titanic['Survived']].sum()\n",
    "print(titanic2)"
   ]
  },
  {
   "cell_type": "markdown",
   "metadata": {},
   "source": [
    "### 3. 타이타닉 탑승객 중 30대 미만의 승객의 생존률은?"
   ]
  },
  {
   "cell_type": "code",
   "execution_count": 109,
   "metadata": {},
   "outputs": [
    {
     "name": "stdout",
     "output_type": "stream",
     "text": [
      "0.40625\n"
     ]
    }
   ],
   "source": [
    "titanic_3 = titanic[titanic['Age'] < 30]['Survived'].sum() / titanic[titanic['Age'] < 30]['Survived'].count()\n",
    "print(titanic_3)"
   ]
  },
  {
   "cell_type": "markdown",
   "metadata": {},
   "source": [
    "### 4. 타이타닉 탑승객의 연령대별 생존자 수와 사망자 수를 구하시오."
   ]
  },
  {
   "cell_type": "code",
   "execution_count": 113,
   "metadata": {},
   "outputs": [
    {
     "name": "stdout",
     "output_type": "stream",
     "text": [
      "                    Survived\n",
      "Age group Survived          \n",
      "0대        0.0           26.0\n",
      "          1.0           38.0\n",
      "10대       0.0           71.0\n",
      "          1.0           44.0\n",
      "20대       0.0          146.0\n",
      "          1.0           84.0\n",
      "30대       0.0           86.0\n",
      "          1.0           69.0\n",
      "40대       0.0           53.0\n",
      "          1.0           33.0\n",
      "50대       0.0           25.0\n",
      "          1.0           17.0\n",
      "60대       0.0           13.0\n",
      "          1.0            4.0\n",
      "70대       0.0            4.0\n",
      "          1.0            1.0\n",
      "80대       0.0            NaN\n",
      "          1.0            NaN\n"
     ]
    }
   ],
   "source": [
    "# 연령대별 구분\n",
    "age = [0, 10, 20, 30, 40, 50, 60, 70, 80, 90]\n",
    "age_columns = ['0대', '10대','20대', '30대', '40대', '50대', '60대', '70대', '80대']\n",
    "titanic['Age group'] = pd.cut(titanic['Age'], age, labels = age_columns)\n",
    "\n",
    "# 생존자 수와 사망자 수\n",
    "titanic_4 = titanic.groupby(['Age group','Survived'])[['Survived']].count()\n",
    "print(titanic_4)"
   ]
  },
  {
   "cell_type": "raw",
   "metadata": {},
   "source": [
    "# 틀린 시도\n",
    "Age_0 = titanic[titanic['Age']<10]\n",
    "Age_10 = titanic[titanic['Age']<20]\n",
    "Age_20 = titanic[titanic['Age']<30]\n",
    "Age_30 = titanic[titanic['Age']<40]\n",
    "Age_40 = titanic[titanic['Age']<50]\n",
    "Age_50 = titanic[titanic['Age']<60]\n",
    "Age_60 = titanic[titanic['Age']<70]\n",
    "Age_70 = titanic[titanic['Age']<80]\n",
    "Age_80 = titanic[titanic['Age']<90]\n",
    "age = []\n",
    "print(Age_0.head())\n",
    "\n",
    "titanic_4 = titanic.groupby(['Age','Survived'])[['Survived']].count()\n",
    "print(titanic_4)"
   ]
  }
 ],
 "metadata": {
  "kernelspec": {
   "display_name": "Python 3",
   "language": "python",
   "name": "python3"
  },
  "language_info": {
   "codemirror_mode": {
    "name": "ipython",
    "version": 3
   },
   "file_extension": ".py",
   "mimetype": "text/x-python",
   "name": "python",
   "nbconvert_exporter": "python",
   "pygments_lexer": "ipython3",
   "version": "3.7.1"
  }
 },
 "nbformat": 4,
 "nbformat_minor": 2
}
