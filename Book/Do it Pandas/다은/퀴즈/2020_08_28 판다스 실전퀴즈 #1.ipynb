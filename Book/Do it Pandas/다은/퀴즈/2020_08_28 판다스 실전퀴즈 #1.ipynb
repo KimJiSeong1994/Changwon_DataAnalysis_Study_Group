{
 "cells": [
  {
   "cell_type": "markdown",
   "metadata": {},
   "source": [
    "### 1. 데이터에서 Name, Survived, Fare만 추려내고, 그 중 Fare가 100이상이면서 사망자인(Survived가 0)값을 뽑아 titanic_1에 저장하시오."
   ]
  },
  {
   "cell_type": "markdown",
   "metadata": {},
   "source": [
    "#### (1) 'titanic.csv'데이터를 불러와서, titanic변수에 저장한다."
   ]
  },
  {
   "cell_type": "code",
   "execution_count": 128,
   "metadata": {},
   "outputs": [],
   "source": [
    "import pandas as pd\n",
    "titanic = pd.read_csv('C:/Users/tb990/Desktop/titanic.csv', sep=\",\")\n",
    "\n",
    "# sep = ','는 ,으로 이뤄진 데이터에서만 작동, '\\t'은 \\로 이뤄진 데이터에서 작동"
   ]
  },
  {
   "cell_type": "markdown",
   "metadata": {},
   "source": [
    "#### (2) 데이터에서 Name, Survived, Fare만 추려내기"
   ]
  },
  {
   "cell_type": "code",
   "execution_count": 115,
   "metadata": {},
   "outputs": [
    {
     "name": "stdout",
     "output_type": "stream",
     "text": [
      "                                                Name  Survived     Fare\n",
      "0                            Braund, Mr. Owen Harris       0.0   7.2500\n",
      "1  Cumings, Mrs. John Bradley (Florence Briggs Th...       1.0  71.2833\n",
      "2                             Heikkinen, Miss. Laina       1.0   7.9250\n",
      "3       Futrelle, Mrs. Jacques Heath (Lily May Peel)       1.0  53.1000\n",
      "4                           Allen, Mr. William Henry       0.0   8.0500\n"
     ]
    }
   ],
   "source": [
    "titanic1 = df[['Name', 'Survived', 'Fare']]    # 바깥은 인덱스괄호[] 안은 리스트 괄호[]\n",
    "print(titanic1.head())"
   ]
  },
  {
   "cell_type": "markdown",
   "metadata": {},
   "source": [
    "#### (3) 그 중 Fare가 100이상이면서,  사망자인(Survived가 0)값을 뽑아 //  titanis_1에 저장하시오."
   ]
  },
  {
   "cell_type": "code",
   "execution_count": 130,
   "metadata": {},
   "outputs": [
    {
     "name": "stdout",
     "output_type": "stream",
     "text": [
      "                               Name  Survived      Fare\n",
      "27   Fortune, Mr. Charles Alexander       0.0  263.0000\n",
      "118        Baxter, Mr. Quigg Edmond       0.0  247.5208\n",
      "297    Allison, Miss. Helen Loraine       0.0  151.5500\n",
      "332       Graham, Mr. George Edward       0.0  153.4625\n",
      "373             Ringhini, Mr. Sante       0.0  135.6333\n"
     ]
    }
   ],
   "source": [
    "titanic_1 = titanic1[(titanic1['Fare'] >= 100)&(titanic1['Survived']== 0)]    # 불린추출하기, &와 ()로 '그리고' 역할\n",
    "print(titanic_1.head())"
   ]
  },
  {
   "cell_type": "markdown",
   "metadata": {},
   "source": [
    "### 2. titanic 데이터에서 Name, Survived, Embarked만 추려내고, 그 중 생존자(Survived가 1)만 뽑아 titanic_2에 저장하시오."
   ]
  },
  {
   "cell_type": "code",
   "execution_count": 114,
   "metadata": {},
   "outputs": [
    {
     "name": "stdout",
     "output_type": "stream",
     "text": [
      "                                                Name  Survived Embarked\n",
      "1  Cumings, Mrs. John Bradley (Florence Briggs Th...       1.0        C\n",
      "2                             Heikkinen, Miss. Laina       1.0        S\n",
      "3       Futrelle, Mrs. Jacques Heath (Lily May Peel)       1.0        S\n",
      "8  Johnson, Mrs. Oscar W (Elisabeth Vilhelmina Berg)       1.0        S\n",
      "9                Nasser, Mrs. Nicholas (Adele Achem)       1.0        C\n"
     ]
    }
   ],
   "source": [
    "titanic_2 = titanic[titanic['Survived'] == 1][['Name', 'Survived', 'Embarked']]\n",
    "print(titanic_2.head())"
   ]
  },
  {
   "cell_type": "markdown",
   "metadata": {},
   "source": [
    "### 3. titanic 데이터에서 Name, Survived, Sex, Age만 추려내고, 그 중 사망자의 나이가 30세 미만인 경우를 출력하시오."
   ]
  },
  {
   "cell_type": "code",
   "execution_count": 131,
   "metadata": {},
   "outputs": [
    {
     "name": "stdout",
     "output_type": "stream",
     "text": [
      "                                    Name  Survived     Sex   Age\n",
      "0                Braund, Mr. Owen Harris       0.0    male  22.0\n",
      "7         Palsson, Master. Gosta Leonard       0.0    male   2.0\n",
      "12        Saundercock, Mr. William Henry       0.0    male  20.0\n",
      "14  Vestrom, Miss. Hulda Amanda Adolfina       0.0  female  14.0\n",
      "16                  Rice, Master. Eugene       0.0    male   2.0\n"
     ]
    }
   ],
   "source": [
    "titanic_3 = titanic[(titanic['Survived'] == 0)&(titanic['Age'] < 30 )][['Name', 'Survived', 'Sex', 'Age']]\n",
    "print(titanic_3.head())"
   ]
  },
  {
   "cell_type": "markdown",
   "metadata": {},
   "source": [
    "### 4. titanic데이터에서 Name,Survived, Pclass만  추려내고, 그 중 층수와 생존 여부에 따라 빈도를 구하시오."
   ]
  },
  {
   "cell_type": "code",
   "execution_count": 139,
   "metadata": {},
   "outputs": [
    {
     "name": "stdout",
     "output_type": "stream",
     "text": [
      "                 Name  Survived  Pclass\n",
      "Survived Pclass                        \n",
      "0.0      1         80        80      80\n",
      "         2         97        97      97\n",
      "         3        372       372     372\n",
      "1.0      1        136       136     136\n",
      "         2         87        87      87\n"
     ]
    }
   ],
   "source": [
    "titanic_4 = titanic.groupby(['Survived', 'Pclass'])['Name', 'Survived', 'Pclass'].count()\n",
    "print(titanic_4.head())"
   ]
  }
 ],
 "metadata": {
  "kernelspec": {
   "display_name": "Python 3",
   "language": "python",
   "name": "python3"
  },
  "language_info": {
   "codemirror_mode": {
    "name": "ipython",
    "version": 3
   },
   "file_extension": ".py",
   "mimetype": "text/x-python",
   "name": "python",
   "nbconvert_exporter": "python",
   "pygments_lexer": "ipython3",
   "version": "3.7.1"
  }
 },
 "nbformat": 4,
 "nbformat_minor": 2
}
