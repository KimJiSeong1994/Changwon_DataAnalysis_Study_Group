{
 "cells": [
  {
   "cell_type": "code",
   "execution_count": null,
   "metadata": {},
   "outputs": [],
   "source": [
    "# 문제1 : 타이타닉 승객들의 성별에 따른 생존률을 구하시요\n",
    "# 문제2 : 타이타닉 탑승객중 fare가 200 이상을 지불한 탐승객들의 생존 확률은 ?\n",
    "# 문제3 : 타이타닉 탑승객중 30대 미만의 승객의 생존률은 몇& 인가?\n",
    "# 문제4 : 타이타닉 탑승객의 연령대별 생존자 수와 사망자 수를 구하시오"
   ]
  },
  {
   "cell_type": "code",
   "execution_count": 1,
   "metadata": {},
   "outputs": [],
   "source": [
    "import pandas as pd\n",
    "titanic = pd.read_csv('/Users/seuli/Downloads/titanic.csv')"
   ]
  },
  {
   "cell_type": "code",
   "execution_count": 2,
   "metadata": {},
   "outputs": [
    {
     "name": "stdout",
     "output_type": "stream",
     "text": [
      "Index(['Unnamed: 0', 'PassengerId', 'Survived', 'Pclass', 'Name', 'Sex', 'Age',\n",
      "       'SibSp', 'Parch', 'Ticket', 'Fare', 'Cabin', 'Embarked'],\n",
      "      dtype='object')\n"
     ]
    }
   ],
   "source": [
    "print(titanic.columns)"
   ]
  },
  {
   "cell_type": "code",
   "execution_count": 6,
   "metadata": {},
   "outputs": [
    {
     "name": "stdout",
     "output_type": "stream",
     "text": [
      "      Unnamed: 0  PassengerId  Survived  Pclass                          Name  \\\n",
      "1304        1305         1305       NaN       3            Spector, Mr. Woolf   \n",
      "1305        1306         1306       NaN       1  Oliva y Ocana, Dona. Fermina   \n",
      "1306        1307         1307       NaN       3  Saether, Mr. Simon Sivertsen   \n",
      "1307        1308         1308       NaN       3           Ware, Mr. Frederick   \n",
      "1308        1309         1309       NaN       3      Peter, Master. Michael J   \n",
      "\n",
      "         Sex   Age  SibSp  Parch              Ticket      Fare Cabin Embarked  \n",
      "1304    male   NaN      0      0           A.5. 3236    8.0500   NaN        S  \n",
      "1305  female  39.0      0      0            PC 17758  108.9000  C105        C  \n",
      "1306    male  38.5      0      0  SOTON/O.Q. 3101262    7.2500   NaN        S  \n",
      "1307    male   NaN      0      0              359309    8.0500   NaN        S  \n",
      "1308    male   NaN      1      1                2668   22.3583   NaN        C  \n"
     ]
    }
   ],
   "source": [
    "print(titanic.tail())"
   ]
  },
  {
   "cell_type": "markdown",
   "metadata": {},
   "source": [
    "## 문제1 : 타이타닉 승객들의 성별에 따른 생존률을 구하시요"
   ]
  },
  {
   "cell_type": "code",
   "execution_count": 43,
   "metadata": {},
   "outputs": [
    {
     "name": "stdout",
     "output_type": "stream",
     "text": [
      "Sex     Survived\n",
      "female  0.0          81\n",
      "        1.0         233\n",
      "male    0.0         468\n",
      "        1.0         109\n",
      "Name: Survived, dtype: int64\n"
     ]
    }
   ],
   "source": [
    "female = (titanic['Sex'] == 'female').count()\n",
    "\n",
    "titanic_1 = titanic.groupby(['Sex', 'Survived'])['Survived'].count()\n",
    "print(titanic_1)"
   ]
  },
  {
   "cell_type": "code",
   "execution_count": 101,
   "metadata": {},
   "outputs": [
    {
     "name": "stdout",
     "output_type": "stream",
     "text": [
      "여성의 생존 확률은 74.20 % 입니다.\n",
      "남성의 생존 확률은 18.89 % 입니다.\n"
     ]
    }
   ],
   "source": [
    "female_total = titanic[titanic['Sex'] == 'female']['Survived'].count()\n",
    "male_total = titanic[titanic['Sex'] == 'male']['Survived'].count()\n",
    "\n",
    "print(\"여성의 생존 확률은 %.2f\" %(233/female_total*100),\"% 입니다.\")\n",
    "print(\"남성의 생존 확률은 %.2f\" %(109/male_total*100), \"% 입니다.\")"
   ]
  },
  {
   "cell_type": "markdown",
   "metadata": {},
   "source": [
    "## 문제2 : 타이타닉 탑승객중 fare가 200 이상을 지불한 탐승객들의 생존 확률은 ?"
   ]
  },
  {
   "cell_type": "code",
   "execution_count": 93,
   "metadata": {},
   "outputs": [
    {
     "name": "stdout",
     "output_type": "stream",
     "text": [
      "1.07 %\n"
     ]
    }
   ],
   "source": [
    "titanic_2 = titanic[(titanic[\"Fare\"]>=200) & (titanic[\"Survived\"] ==1)].count()\n",
    "print(\"%.2f\" %((titanic_2[\"Name\"])/1309*100),\"%\")"
   ]
  },
  {
   "cell_type": "markdown",
   "metadata": {},
   "source": [
    "## 문제3 : 타이타닉 탑승객중 30대 미만의 승객의 생존률은 몇& 인가?"
   ]
  },
  {
   "cell_type": "code",
   "execution_count": 99,
   "metadata": {},
   "outputs": [
    {
     "name": "stdout",
     "output_type": "stream",
     "text": [
      "11.92 %\n"
     ]
    }
   ],
   "source": [
    "titanic_3 = titanic[(titanic[\"Age\"] < 30) & (titanic[\"Survived\"] == 1)].count()\n",
    "print(\"%.2f\" %((titanic_3[\"Survived\"])/1309*100),\"%\")\n"
   ]
  },
  {
   "cell_type": "markdown",
   "metadata": {},
   "source": [
    "## 문제4 : 타이타닉 탑승객의 연령대별 생존자 수와 사망자 수를 구하시오"
   ]
  },
  {
   "cell_type": "code",
   "execution_count": 100,
   "metadata": {},
   "outputs": [
    {
     "name": "stdout",
     "output_type": "stream",
     "text": [
      "Age    Survived\n",
      "0.42   1.0         1\n",
      "0.67   1.0         1\n",
      "0.75   1.0         2\n",
      "0.83   1.0         2\n",
      "0.92   1.0         1\n",
      "1.00   0.0         2\n",
      "       1.0         5\n",
      "2.00   0.0         7\n",
      "       1.0         3\n",
      "3.00   0.0         1\n",
      "       1.0         5\n",
      "4.00   0.0         3\n",
      "       1.0         7\n",
      "5.00   1.0         4\n",
      "6.00   0.0         1\n",
      "       1.0         2\n",
      "7.00   0.0         2\n",
      "       1.0         1\n",
      "8.00   0.0         2\n",
      "       1.0         2\n",
      "9.00   0.0         6\n",
      "       1.0         2\n",
      "10.00  0.0         2\n",
      "11.00  0.0         3\n",
      "       1.0         1\n",
      "12.00  1.0         1\n",
      "13.00  1.0         2\n",
      "14.00  0.0         3\n",
      "       1.0         3\n",
      "14.50  0.0         1\n",
      "                  ..\n",
      "51.00  0.0         5\n",
      "       1.0         2\n",
      "52.00  0.0         3\n",
      "       1.0         3\n",
      "53.00  1.0         1\n",
      "54.00  0.0         5\n",
      "       1.0         3\n",
      "55.00  0.0         1\n",
      "       1.0         1\n",
      "55.50  0.0         1\n",
      "56.00  0.0         2\n",
      "       1.0         2\n",
      "57.00  0.0         2\n",
      "58.00  0.0         2\n",
      "       1.0         3\n",
      "59.00  0.0         2\n",
      "60.00  0.0         2\n",
      "       1.0         2\n",
      "61.00  0.0         3\n",
      "62.00  0.0         2\n",
      "       1.0         2\n",
      "63.00  1.0         2\n",
      "64.00  0.0         2\n",
      "65.00  0.0         3\n",
      "66.00  0.0         1\n",
      "70.00  0.0         2\n",
      "70.50  0.0         1\n",
      "71.00  0.0         2\n",
      "74.00  0.0         1\n",
      "80.00  1.0         1\n",
      "Name: Survived, Length: 142, dtype: int64\n"
     ]
    }
   ],
   "source": [
    "titanic_4 = titanic.groupby(['Age', 'Survived'])['Survived'].count()\n",
    "print(titanic_4)"
   ]
  }
 ],
 "metadata": {
  "kernelspec": {
   "display_name": "Python 3",
   "language": "python",
   "name": "python3"
  },
  "language_info": {
   "codemirror_mode": {
    "name": "ipython",
    "version": 3
   },
   "file_extension": ".py",
   "mimetype": "text/x-python",
   "name": "python",
   "nbconvert_exporter": "python",
   "pygments_lexer": "ipython3",
   "version": "3.7.3"
  }
 },
 "nbformat": 4,
 "nbformat_minor": 2
}
