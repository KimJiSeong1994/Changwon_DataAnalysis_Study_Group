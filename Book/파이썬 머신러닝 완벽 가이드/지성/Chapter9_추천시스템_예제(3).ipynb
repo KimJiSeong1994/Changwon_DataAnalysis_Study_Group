{
  "nbformat": 4,
  "nbformat_minor": 0,
  "metadata": {
    "colab": {
      "name": "Chapter9 추천시스템 예제(3).ipynb",
      "provenance": [],
      "collapsed_sections": []
    },
    "kernelspec": {
      "name": "python3",
      "display_name": "Python 3"
    },
    "language_info": {
      "name": "python"
    }
  },
  "cells": [
    {
      "cell_type": "code",
      "metadata": {
        "colab": {
          "base_uri": "https://localhost:8080/"
        },
        "id": "K5-cMNJ2kkuu",
        "outputId": "d23df3db-385d-47ca-ef79-d58cd8b4e9bb"
      },
      "source": [
        "#!pip install surprise\n",
        "import surprise \n",
        "from surprise import SVD\n",
        "from surprise import Dataset \n",
        "from surprise import accuracy \n",
        "from surprise.model_selection import train_test_split\n",
        "\n",
        "data = Dataset.load_builtin('ml-100k') \n",
        "trainset, testset = train_test_split(data, test_size=.25, random_state=0)\n",
        "\n",
        "algo = SVD()\n",
        "algo.fit(trainset)"
      ],
      "execution_count": 2,
      "outputs": [
        {
          "output_type": "stream",
          "text": [
            "Dataset ml-100k could not be found. Do you want to download it? [Y/n] Y\n",
            "Trying to download dataset from http://files.grouplens.org/datasets/movielens/ml-100k.zip...\n",
            "Done! Dataset ml-100k has been saved to /root/.surprise_data/ml-100k\n"
          ],
          "name": "stdout"
        },
        {
          "output_type": "execute_result",
          "data": {
            "text/plain": [
              "<surprise.prediction_algorithms.matrix_factorization.SVD at 0x7f626954add0>"
            ]
          },
          "metadata": {
            "tags": []
          },
          "execution_count": 2
        }
      ]
    },
    {
      "cell_type": "code",
      "metadata": {
        "colab": {
          "base_uri": "https://localhost:8080/"
        },
        "id": "idmfzI_aknE-",
        "outputId": "f23f09e5-4c32-4b1a-e912-09e40e935b18"
      },
      "source": [
        "predictions = algo.test(testset) # test : 사용자-아이템 평점 데이터 세트 전체에 대해서 추천 예측 \n",
        "print('prediction type :', type(predictions), ' size:', len(predictions))\n",
        "print('prediction 결과의 최초 5개 추출')\n",
        "predictions[:5]"
      ],
      "execution_count": 3,
      "outputs": [
        {
          "output_type": "stream",
          "text": [
            "prediction type : <class 'list'>  size: 25000\n",
            "prediction 결과의 최초 5개 추출\n"
          ],
          "name": "stdout"
        },
        {
          "output_type": "execute_result",
          "data": {
            "text/plain": [
              "[Prediction(uid='120', iid='282', r_ui=4.0, est=3.73808468370287, details={'was_impossible': False}),\n",
              " Prediction(uid='882', iid='291', r_ui=4.0, est=3.859612974136778, details={'was_impossible': False}),\n",
              " Prediction(uid='535', iid='507', r_ui=5.0, est=4.283121018295666, details={'was_impossible': False}),\n",
              " Prediction(uid='697', iid='244', r_ui=5.0, est=3.2367309726566194, details={'was_impossible': False}),\n",
              " Prediction(uid='751', iid='385', r_ui=4.0, est=3.45941132803054, details={'was_impossible': False})]"
            ]
          },
          "metadata": {
            "tags": []
          },
          "execution_count": 3
        }
      ]
    },
    {
      "cell_type": "code",
      "metadata": {
        "colab": {
          "base_uri": "https://localhost:8080/"
        },
        "id": "sEOGf2dLk5PE",
        "outputId": "247a35be-18cb-428d-8702-289650af9b89"
      },
      "source": [
        "uid = str(196)\n",
        "iid = str(302)\n",
        "pred = algo.predict(uid, iid) # predict : 사용자, 아이템 정보를 입력하여 추천 예측 평점 \n",
        "print(pred)"
      ],
      "execution_count": 4,
      "outputs": [
        {
          "output_type": "stream",
          "text": [
            "user: 196        item: 302        r_ui = None   est = 4.14   {'was_impossible': False}\n"
          ],
          "name": "stdout"
        }
      ]
    },
    {
      "cell_type": "code",
      "metadata": {
        "colab": {
          "base_uri": "https://localhost:8080/"
        },
        "id": "hLVvKagvlUUM",
        "outputId": "005f90c2-47a6-4941-d57f-a2193c0c8fe7"
      },
      "source": [
        "accuracy.rmse(predictions)"
      ],
      "execution_count": 5,
      "outputs": [
        {
          "output_type": "stream",
          "text": [
            "RMSE: 0.9488\n"
          ],
          "name": "stdout"
        },
        {
          "output_type": "execute_result",
          "data": {
            "text/plain": [
              "0.9487981919403441"
            ]
          },
          "metadata": {
            "tags": []
          },
          "execution_count": 5
        }
      ]
    },
    {
      "cell_type": "code",
      "metadata": {
        "colab": {
          "base_uri": "https://localhost:8080/"
        },
        "id": "FDE0mcrIlw0U",
        "outputId": "0a4a0bb2-06f6-4272-decc-9f801ce79bd5"
      },
      "source": [
        "import pandas as pd\n",
        "from surprise import Reader, Dataset\n",
        "\n",
        "ratings = pd.read_csv('ratings.csv') \n",
        "reader = Reader(rating_scale=(0.5, 5.0))\n",
        "\n",
        "data = Dataset.load_from_df(ratings[['userId', 'movieId', 'rating']], reader)\n",
        "trainset, testset = train_test_split(data, test_size=.25, random_state=0)\n",
        "\n",
        "algo = SVD(n_factors = 50, random_state = 0)\n",
        "algo.fit(trainset) \n",
        "predictions = algo.test( testset )\n",
        "accuracy.rmse(predictions)"
      ],
      "execution_count": 8,
      "outputs": [
        {
          "output_type": "stream",
          "text": [
            "RMSE: 0.8928\n"
          ],
          "name": "stdout"
        },
        {
          "output_type": "execute_result",
          "data": {
            "text/plain": [
              "0.8927792463064537"
            ]
          },
          "metadata": {
            "tags": []
          },
          "execution_count": 8
        }
      ]
    },
    {
      "cell_type": "code",
      "metadata": {
        "colab": {
          "base_uri": "https://localhost:8080/"
        },
        "id": "6AACnUMAl_5s",
        "outputId": "9bf34c4e-f08d-465d-f6cb-d27a01e53c8d"
      },
      "source": [
        "from surprise.model_selection import cross_validate \n",
        "\n",
        "reader = Reader(rating_scale=(0.5, 5.0))\n",
        "data = Dataset.load_from_df(ratings[['userId', 'movieId', 'rating']], reader)\n",
        "\n",
        "algo = SVD(random_state=0) \n",
        "cross_validate(algo, data, measures=['RMSE', 'MAE'], cv = 5, verbose = True)"
      ],
      "execution_count": 9,
      "outputs": [
        {
          "output_type": "stream",
          "text": [
            "Evaluating RMSE, MAE of algorithm SVD on 5 split(s).\n",
            "\n",
            "                  Fold 1  Fold 2  Fold 3  Fold 4  Fold 5  Mean    Std     \n",
            "RMSE (testset)    0.8940  0.8894  0.8988  0.8987  0.8875  0.8937  0.0046  \n",
            "MAE (testset)     0.6866  0.6868  0.6880  0.6914  0.6808  0.6867  0.0034  \n",
            "Fit time          2.35    2.25    2.24    2.21    2.26    2.26    0.05    \n",
            "Test time         0.07    0.06    0.07    0.07    0.07    0.07    0.00    \n"
          ],
          "name": "stdout"
        },
        {
          "output_type": "execute_result",
          "data": {
            "text/plain": [
              "{'fit_time': (2.345184564590454,\n",
              "  2.2496633529663086,\n",
              "  2.244626760482788,\n",
              "  2.2094640731811523,\n",
              "  2.259730577468872),\n",
              " 'test_mae': array([0.68657926, 0.68676905, 0.68796574, 0.69143691, 0.6808191 ]),\n",
              " 'test_rmse': array([0.89400218, 0.88943858, 0.89884753, 0.89866428, 0.88752417]),\n",
              " 'test_time': (0.06537175178527832,\n",
              "  0.06223607063293457,\n",
              "  0.07145094871520996,\n",
              "  0.07245182991027832,\n",
              "  0.06939125061035156)}"
            ]
          },
          "metadata": {
            "tags": []
          },
          "execution_count": 9
        }
      ]
    },
    {
      "cell_type": "code",
      "metadata": {
        "colab": {
          "base_uri": "https://localhost:8080/"
        },
        "id": "uYEU6RiKmNLD",
        "outputId": "cfd2fe74-82ca-4401-c322-4ed6a5467e31"
      },
      "source": [
        "from surprise.model_selection import GridSearchCV\n",
        "param_grid = {'n_epochs': [20, 40, 60], 'n_factors': [50, 100, 200] }\n",
        "\n",
        "gs = GridSearchCV(SVD, param_grid, measures=['rmse', 'mae'], cv=3)\n",
        "gs.fit(data)\n",
        "\n",
        "print(gs.best_score['rmse'])\n",
        "print(gs.best_params['rmse'])"
      ],
      "execution_count": 10,
      "outputs": [
        {
          "output_type": "stream",
          "text": [
            "0.8923446740040832\n",
            "{'n_epochs': 20, 'n_factors': 50}\n"
          ],
          "name": "stdout"
        }
      ]
    },
    {
      "cell_type": "code",
      "metadata": {
        "colab": {
          "base_uri": "https://localhost:8080/",
          "height": 301
        },
        "id": "ufpWZI_7mRy1",
        "outputId": "660d4d5f-756c-42ef-f47a-361d84b389a0"
      },
      "source": [
        "from surprise.dataset import DatasetAutoFolds\n",
        "\n",
        "data = Dataset.load_from_df(ratings[['userId', 'movieId', 'rating']], reader)\n",
        "algo = SVD(n_factors=50, random_state=0)\n",
        "algo.fit(data)\n",
        "\n",
        "reader = Reader(line_format='user item rating timestamp', sep=',', rating_scale=(0.5, 5))\n",
        "data_folds = DatasetAutoFolds(ratings_file='./ml-latest-small/ratings_noh.csv', reader=reader)\n",
        "trainset = data_folds.build_full_trainset()\n",
        "\n",
        "algo = SVD(n_epochs=20, n_factors=50, random_state=0)\n",
        "algo.fit(trainset)\n",
        "\n",
        "movies = pd.read_csv('movies.csv')\n",
        "movieIds = ratings[ratings['userId']==9]['movieId']\n",
        "if movieIds[movieIds==42].count() == 0:\n",
        "    print('사용자 아이디 9는 영화 아이디 42의 평점 없음')\n",
        "\n",
        "print(movies[movies['movieId'] == 42])\n",
        "\n",
        "uid = str(9)\n",
        "iid = str(42)\n",
        "pred = algo.predict(uid, iid, verbose = True)\n",
        "\n",
        "def get_unseen_surprise(ratings, movies, userId):\n",
        "    seen_movies = ratings[ratings['userId']== userId]['movieId'].tolist()\n",
        "    total_movies = movies['movieId'].tolist()\n",
        "    unseen_movies= [movie for movie in total_movies if movie not in seen_movies]\n",
        "    print('평점 매긴 영화수:',len(seen_movies), '추천대상 영화수:',len(unseen_movies), '전체 영화수:',len(total_movies))\n",
        "    return unseen_movies\n",
        "\n",
        "unseen_movies = get_unseen_surprise(ratings, movies, 9)\n",
        "\n"
      ],
      "execution_count": 11,
      "outputs": [
        {
          "output_type": "error",
          "ename": "AttributeError",
          "evalue": "ignored",
          "traceback": [
            "\u001b[0;31m---------------------------------------------------------------------------\u001b[0m",
            "\u001b[0;31mAttributeError\u001b[0m                            Traceback (most recent call last)",
            "\u001b[0;32m<ipython-input-11-2ae8962b4302>\u001b[0m in \u001b[0;36m<module>\u001b[0;34m()\u001b[0m\n\u001b[1;32m      3\u001b[0m \u001b[0mdata\u001b[0m \u001b[0;34m=\u001b[0m \u001b[0mDataset\u001b[0m\u001b[0;34m.\u001b[0m\u001b[0mload_from_df\u001b[0m\u001b[0;34m(\u001b[0m\u001b[0mratings\u001b[0m\u001b[0;34m[\u001b[0m\u001b[0;34m[\u001b[0m\u001b[0;34m'userId'\u001b[0m\u001b[0;34m,\u001b[0m \u001b[0;34m'movieId'\u001b[0m\u001b[0;34m,\u001b[0m \u001b[0;34m'rating'\u001b[0m\u001b[0;34m]\u001b[0m\u001b[0;34m]\u001b[0m\u001b[0;34m,\u001b[0m \u001b[0mreader\u001b[0m\u001b[0;34m)\u001b[0m\u001b[0;34m\u001b[0m\u001b[0;34m\u001b[0m\u001b[0m\n\u001b[1;32m      4\u001b[0m \u001b[0malgo\u001b[0m \u001b[0;34m=\u001b[0m \u001b[0mSVD\u001b[0m\u001b[0;34m(\u001b[0m\u001b[0mn_factors\u001b[0m\u001b[0;34m=\u001b[0m\u001b[0;36m50\u001b[0m\u001b[0;34m,\u001b[0m \u001b[0mrandom_state\u001b[0m\u001b[0;34m=\u001b[0m\u001b[0;36m0\u001b[0m\u001b[0;34m)\u001b[0m\u001b[0;34m\u001b[0m\u001b[0;34m\u001b[0m\u001b[0m\n\u001b[0;32m----> 5\u001b[0;31m \u001b[0malgo\u001b[0m\u001b[0;34m.\u001b[0m\u001b[0mfit\u001b[0m\u001b[0;34m(\u001b[0m\u001b[0mdata\u001b[0m\u001b[0;34m)\u001b[0m\u001b[0;34m\u001b[0m\u001b[0;34m\u001b[0m\u001b[0m\n\u001b[0m\u001b[1;32m      6\u001b[0m \u001b[0;34m\u001b[0m\u001b[0m\n\u001b[1;32m      7\u001b[0m \u001b[0mreader\u001b[0m \u001b[0;34m=\u001b[0m \u001b[0mReader\u001b[0m\u001b[0;34m(\u001b[0m\u001b[0mline_format\u001b[0m\u001b[0;34m=\u001b[0m\u001b[0;34m'user item rating timestamp'\u001b[0m\u001b[0;34m,\u001b[0m \u001b[0msep\u001b[0m\u001b[0;34m=\u001b[0m\u001b[0;34m','\u001b[0m\u001b[0;34m,\u001b[0m \u001b[0mrating_scale\u001b[0m\u001b[0;34m=\u001b[0m\u001b[0;34m(\u001b[0m\u001b[0;36m0.5\u001b[0m\u001b[0;34m,\u001b[0m \u001b[0;36m5\u001b[0m\u001b[0;34m)\u001b[0m\u001b[0;34m)\u001b[0m\u001b[0;34m\u001b[0m\u001b[0;34m\u001b[0m\u001b[0m\n",
            "\u001b[0;32m/usr/local/lib/python3.7/dist-packages/surprise/prediction_algorithms/matrix_factorization.pyx\u001b[0m in \u001b[0;36msurprise.prediction_algorithms.matrix_factorization.SVD.fit\u001b[0;34m()\u001b[0m\n",
            "\u001b[0;32m/usr/local/lib/python3.7/dist-packages/surprise/prediction_algorithms/matrix_factorization.pyx\u001b[0m in \u001b[0;36msurprise.prediction_algorithms.matrix_factorization.SVD.sgd\u001b[0;34m()\u001b[0m\n",
            "\u001b[0;31mAttributeError\u001b[0m: 'DatasetAutoFolds' object has no attribute 'global_mean'"
          ]
        }
      ]
    }
  ]
}