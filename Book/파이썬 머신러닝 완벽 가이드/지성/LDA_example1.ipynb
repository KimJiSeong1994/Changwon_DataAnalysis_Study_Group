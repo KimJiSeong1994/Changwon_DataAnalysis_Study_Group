{
  "nbformat": 4,
  "nbformat_minor": 0,
  "metadata": {
    "colab": {
      "name": "LDA_example1.ipynb",
      "provenance": [],
      "collapsed_sections": []
    },
    "kernelspec": {
      "name": "python3",
      "display_name": "Python 3"
    },
    "accelerator": "GPU"
  },
  "cells": [
    {
      "cell_type": "markdown",
      "metadata": {
        "id": "NVHd3IknhTso"
      },
      "source": [
        "**잠재디리클레할당(Latent Dirichlet Allocation, LDA) a.k.a Topic modling**\n",
        "\n",
        ": LDA란 주어진 문서에 대하여 각 문서에 어떤 주제들이 존재하는지에 대한 확률모형, 즉 특정 토픽에 특정 단어가 나타날 확률을 나타냄\n",
        "\n",
        "![image](https://user-images.githubusercontent.com/29038531/111445738-0ae6dc00-874f-11eb-9aea-4b528925e5ef.png)\n",
        "\n",
        "쉽게 말해 문서가 있고, 그 안에 단어가 있다면 확률분포 중 하나인 디리클레의 분포를 가정하고, 번호가 매겨진 토픽 안에 문서와 단어들을 하나씩 넣어보며 잠재적인 의미(토픽)들을 찾아주는 과정\n",
        "\n",
        "**1. LDA 이론**\n",
        "\n",
        "1번 문서 : 문고리거래 하실분\n",
        "2번 문서 : 가방 나눔합니다. 문고리드림\n",
        "3번 문서 : 비대면거래로 합니다. 택배로 할께요.\n",
        "\n",
        "1번 문서 : 문고리, 거래\n",
        "2번 문서 : 가방, 나눔, 문고리, 드림\n",
        "3번 문서 : 비대면, 거래, 택배\n",
        "\n",
        "<img width=\"909\" alt=\"스크린샷 2021-03-17 오후 6 43 45\" src=\"https://user-images.githubusercontent.com/29038531/111447367-b6dcf700-8750-11eb-85e5-0434fecf8d61.png\">\n",
        "\n",
        "<img width=\"900\" alt=\"스크린샷 2021-03-17 오후 6 45 19\" src=\"https://user-images.githubusercontent.com/29038531/111447597-ef7cd080-8750-11eb-89cc-1d3876383032.png\">\n",
        "\n",
        "1번문서의 문고리 단어가 topic1로 배정되어 1의 값이 생기고, LDA 파라미터 값인 α를 0.01로 설정하면 그 값을 같이 더해줍니다. 그렇게 1번문서에는 topic3에 배정된게 없지만 최소한의 값(α)을 배정해줍니다.\n",
        "\n",
        "<img width=\"896\" alt=\"스크린샷 2021-03-17 오후 6 47 29\" src=\"https://user-images.githubusercontent.com/29038531/111447904-3bc81080-8751-11eb-9b64-dab64918beef.png\">\n",
        "\n",
        "<img width=\"904\" alt=\"스크린샷 2021-03-17 오후 6 48 11\" src=\"https://user-images.githubusercontent.com/29038531/111447981-55695800-8751-11eb-8448-c856813fff98.png\">\n",
        "\n",
        "해당 과정에서부터는 1번 문서에 속한 ‘문고리’의 키워드를 topic1~topic3에 확률을 계산합니다.\n",
        "\n",
        "1번 문서 내 topic1이 있을 확률 : 1.01/3.03 = 0.333\n",
        "(이 때 분모의 경우 1번 토픽 내 문서 분포 합입니다. )\n",
        "\n",
        "1번 토픽 내 단어가 ‘문고리’일 확률 : 1.001/3.007 = 0.332\n",
        "(이 때 분모의 경우 1번 토픽 내 키워드 분포 합입니다.)\n",
        "마지막으로 1번 문서의 ‘문고리’가 topic1일 확률 0.333*0.332 = 0.110이 됩니다.\n",
        "\n",
        "위처럼 1번 문서 내 topic2이 있을 확률,\n",
        "1번 문서 내 topic3이 있을 확률 모두 구해줍니다.\n",
        "\n",
        "(1번 분서 내 topic2 : 1.01 / 3.03 = 0.333, 2번 토픽 내 단어 \"문고리\" : 1.001 / 4.008 = 0.249, 1번 문서의 ‘문고리’가 topic2일 확률 = 0.082)\n",
        "\n",
        " (1번 분서 내 topic3 : 0.01 / 3.03 = 0.030, 3번 토픽 내 단어 \"문고리\" : 0.001 / 2.007 = 0.0004, 1번 문서의 ‘문고리’가 topic2일 확률 = 0.000012)\n"
      ]
    },
    {
      "cell_type": "code",
      "metadata": {
        "id": "6dl_s0ipiKiR",
        "colab": {
          "base_uri": "https://localhost:8080/"
        },
        "outputId": "618df705-5df8-4b01-b3cd-78194801bcdb"
      },
      "source": [
        "# ================================================== [ setting ] ==================================================\n",
        "!pip install konlpy\n",
        "!pip install pyLDAvis\n",
        "import pandas as pd \n",
        "import re\n",
        "from konlpy.tag import Komoran\n",
        "from gensim import corpora\n",
        "import gensim\n",
        "import pyLDAvis.gensim\n",
        "import warnings\n",
        "warnings.filterwarnings(action = 'ignore')\n",
        "\n",
        "news_data = pd.read_csv(\"kyungnam_news_total.csv\", encoding = \"utf-8\")"
      ],
      "execution_count": 50,
      "outputs": [
        {
          "output_type": "stream",
          "text": [
            "Requirement already satisfied: pyLDAvis in /usr/local/lib/python3.7/dist-packages (3.2.2)\n",
            "Requirement already satisfied: wheel>=0.23.0 in /usr/local/lib/python3.7/dist-packages (from pyLDAvis) (0.36.2)\n",
            "Requirement already satisfied: numexpr in /usr/local/lib/python3.7/dist-packages (from pyLDAvis) (2.7.3)\n",
            "Requirement already satisfied: future in /usr/local/lib/python3.7/dist-packages (from pyLDAvis) (0.16.0)\n",
            "Requirement already satisfied: jinja2>=2.7.2 in /usr/local/lib/python3.7/dist-packages (from pyLDAvis) (2.11.3)\n",
            "Requirement already satisfied: joblib>=0.8.4 in /usr/local/lib/python3.7/dist-packages (from pyLDAvis) (1.0.1)\n",
            "Requirement already satisfied: numpy>=1.9.2 in /usr/local/lib/python3.7/dist-packages (from pyLDAvis) (1.19.5)\n",
            "Requirement already satisfied: scipy>=0.18.0 in /usr/local/lib/python3.7/dist-packages (from pyLDAvis) (1.4.1)\n",
            "Requirement already satisfied: funcy in /usr/local/lib/python3.7/dist-packages (from pyLDAvis) (1.15)\n",
            "Requirement already satisfied: pandas>=0.17.0; python_version > \"3.5\" in /usr/local/lib/python3.7/dist-packages (from pyLDAvis) (1.1.5)\n",
            "Requirement already satisfied: MarkupSafe>=0.23 in /usr/local/lib/python3.7/dist-packages (from jinja2>=2.7.2->pyLDAvis) (1.1.1)\n",
            "Requirement already satisfied: pytz>=2017.2 in /usr/local/lib/python3.7/dist-packages (from pandas>=0.17.0; python_version > \"3.5\"->pyLDAvis) (2018.9)\n",
            "Requirement already satisfied: python-dateutil>=2.7.3 in /usr/local/lib/python3.7/dist-packages (from pandas>=0.17.0; python_version > \"3.5\"->pyLDAvis) (2.8.1)\n",
            "Requirement already satisfied: six>=1.5 in /usr/local/lib/python3.7/dist-packages (from python-dateutil>=2.7.3->pandas>=0.17.0; python_version > \"3.5\"->pyLDAvis) (1.15.0)\n"
          ],
          "name": "stdout"
        }
      ]
    },
    {
      "cell_type": "code",
      "metadata": {
        "colab": {
          "base_uri": "https://localhost:8080/",
          "height": 52
        },
        "id": "kZODZEJqcOqm",
        "outputId": "f23bf702-1c3b-451d-f588-bd2728322739"
      },
      "source": [
        "# news_data[\"new_summary\"][3] \n",
        "news_data[\"new_summary\"].str.replace(\"\\([^)]*\\)\", \"\")[3]"
      ],
      "execution_count": 35,
      "outputs": [
        {
          "output_type": "execute_result",
          "data": {
            "application/vnd.google.colaboratory.intrinsic+json": {
              "type": "string"
            },
            "text/plain": [
              "'창원시 조영진 제1부시장은 24일 창원컨벤션센터에서 열리고 있는 ‘제13회 2020 한국국제기계박람회’ 행사장을 찾았다.이번 행사는 기계와 DNA 생태계 융합을 통해 기계산업 분야의 새로운 청사진을 제시하고 있다.한국기계산업진흥회가 주관하고 경상남도와 창원시가 주최하는 KI'"
            ]
          },
          "metadata": {
            "tags": []
          },
          "execution_count": 35
        }
      ]
    },
    {
      "cell_type": "code",
      "metadata": {
        "colab": {
          "base_uri": "https://localhost:8080/",
          "height": 35
        },
        "id": "bP03hSDQgC0-",
        "outputId": "3475962f-9139-4527-ed76-0205e30eb74b"
      },
      "source": [
        "# news_data[\"new_summary\"][411]\n",
        "news_data[\"new_summary\"].str.replace(\"\\n\\n\", \"\")[411]\n",
        "news_data[\"new_summary\"].str.replace(\"[^a-zA-Z가-힣 ]\", \"\")[411]"
      ],
      "execution_count": 39,
      "outputs": [
        {
          "output_type": "execute_result",
          "data": {
            "application/vnd.google.colaboratory.intrinsic+json": {
              "type": "string"
            },
            "text/plain": [
              "'링을 선사한다 지난 년대 마산의 부흥과 함께 급격한 도시화가 이뤄진 구암동은 도시재생 뉴딜사업으로 또 한 번의 변화를 겪고 있다 구암지구에는 년까지 총사업비 억 원이 투입돼 '"
            ]
          },
          "metadata": {
            "tags": []
          },
          "execution_count": 39
        }
      ]
    },
    {
      "cell_type": "code",
      "metadata": {
        "colab": {
          "base_uri": "https://localhost:8080/",
          "height": 69
        },
        "id": "mmHSJhA-gU0l",
        "outputId": "a4beb687-e6bc-49c9-80d2-d103332db440"
      },
      "source": [
        "news_data[\"new_summary\"][120]\n",
        "# news_data[\"new_summary\"].str.replace(\"\\([^)]*\\)\", \"\")[120] # (주) : 특문\n",
        "news_data[\"new_summary\"].str.replace(\"[^a-zA-Z가-힣 ]\", \"\")[120]"
      ],
      "execution_count": 41,
      "outputs": [
        {
          "output_type": "execute_result",
          "data": {
            "application/vnd.google.colaboratory.intrinsic+json": {
              "type": "string"
            },
            "text/plain": [
              "'경남도는 일 도청에서 NHN HDC현대산업개발 김해시와 함께 NHN 클라우드 데이터센터 건립을 위한 투자협약 체결식을 개최했다투자협약 체결식에는 김경수 지사를 비롯해 박영선 중소벤처기업부장관 진은숙 NHN CTO총괄이사 권순호 HDC현대산업개발 대표이사 허성곤 김해시장 등 관계자들이 참석했다이번 협약MOU의 체결로 NHN과 HDC현대산업개발은 김해시 부원지구 일원 약 만을 공동으로 개발하고 약 만의 부지면적에 억 원을 투입한다오는 년까지 클라우드 기반 도심형 데이터'"
            ]
          },
          "metadata": {
            "tags": []
          },
          "execution_count": 41
        }
      ]
    },
    {
      "cell_type": "code",
      "metadata": {
        "id": "Ls57tNyojqeE"
      },
      "source": [
        "# ============================================== [ LDA modeling ] ======================================================\n",
        "def LDA_modeling(df) :\n",
        "  df = df.str.replace(\"\\([^)]*\\)\", \"\") # 괄호안의 내용 제거 ex) 코로나(COVID-19) -> 코로나\n",
        "  df = df.str.replace(\"\\n\\n\", \"\") # 문단 구분자 제거 \n",
        "  df = df.str.replace(\"[^a-zA-Z가-힣 ]\", \"\") # 영어 / 한글 제외하고 모두 제거 \n",
        "\n",
        "  processed_data = []\n",
        "  for sentence in df : \n",
        "    komoran = Komoran()\n",
        "    tag = komoran.pos(sentence) # 형태소 처리 [\"단어\", \"품사\"]\n",
        "    nouns = [s for s, t in tag if t in ['SL', 'NNG', 'NNP'] and len(s) > 1] # 명사 태그 추출, 한글자 이상만 추출 # nng : 명사 nnp :  고유대명사 sl : 외래어  \n",
        "    processed_data.append(nouns) # token 형태로 list에 저장\n",
        "\n",
        "  dictionary = corpora.Dictionary(processed_data) # {512, 1} {522, 2} ... \n",
        "  corpus = [dictionary.doc2bow(text) for text in processed_data]\n",
        "  ## ===== 요기 까지 전처리 ==============================================\n",
        "\n",
        "  NUM_TOPICS = 3\n",
        "  ldamodel = gensim.models.ldamodel.LdaModel(corpus, num_topics = NUM_TOPICS, id2word = dictionary, passes = 15)\n",
        "  topics = ldamodel.print_topics(num_words = 10)\n",
        "  \n",
        "  pyLDAvis.enable_notebook()\n",
        "  vis = pyLDAvis.gensim.prepare(ldamodel, corpus, dictionary) # 그래프 출력\n",
        "  \n",
        "  return pyLDAvis.display(vis)"
      ],
      "execution_count": 51,
      "outputs": []
    },
    {
      "cell_type": "code",
      "metadata": {
        "id": "Jbwj1E0B7naa"
      },
      "source": [
        "LDA_modeling(news_data[\"new_summary\"])"
      ],
      "execution_count": null,
      "outputs": []
    },
    {
      "cell_type": "code",
      "metadata": {
        "id": "zNQzS_bkyDEo"
      },
      "source": [
        ""
      ],
      "execution_count": null,
      "outputs": []
    }
  ]
}